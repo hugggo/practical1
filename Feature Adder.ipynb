{
 "cells": [
  {
   "cell_type": "code",
   "execution_count": 7,
   "metadata": {
    "collapsed": true
   },
   "outputs": [],
   "source": [
    "import pandas as pd\n",
    "import numpy as np\n",
    "import matplotlib.pyplot as plt\n",
    "from sklearn.linear_model import LinearRegression\n",
    "from sklearn.ensemble import RandomForestRegressor\n",
    "from rdkit import Chem, DataStructs\n",
    "from rdkit.Chem import AllChem"
   ]
  },
  {
   "cell_type": "code",
   "execution_count": 8,
   "metadata": {
    "collapsed": true
   },
   "outputs": [],
   "source": [
    "\"\"\"\n",
    "Read in train and test as Pandas DataFrames\n",
    "\"\"\"\n",
    "#df_train = pd.read_csv(\"train2.csv\")\n",
    "df_train = pd.read_csv(\"test2.csv\")\n",
    "\n",
    "#testing purposes\n",
    "#df_train0 = pd.read_csv(\"train.csv\")\n",
    "#df_train = df_train0.loc[df_train0.shape[0]/10*7:df_train0.shape[0]/10*8]\n",
    "#df_test = df_train0.loc[df_train0.shape[0]/10:df_train0.shape[0]/2]"
   ]
  },
  {
   "cell_type": "code",
   "execution_count": 1,
   "metadata": {
    "collapsed": false
   },
   "outputs": [],
   "source": [
    "#df_train.head()"
   ]
  },
  {
   "cell_type": "code",
   "execution_count": 9,
   "metadata": {
    "collapsed": true
   },
   "outputs": [],
   "source": [
    "mols = [Chem.MolFromSmiles(m) for m in df_train.smiles.astype(str)]"
   ]
  },
  {
   "cell_type": "code",
   "execution_count": 10,
   "metadata": {
    "collapsed": true
   },
   "outputs": [],
   "source": [
    "mols_a = np.vstack(AllChem.CalcNumAliphaticCarbocycles(m) for m in mols)\n",
    "df_train['mols_a'] = pd.DataFrame(mols_a)\n",
    "mols_b = np.vstack(AllChem.CalcNumAliphaticHeterocycles(m) for m in mols)\n",
    "df_train['mols_b'] = pd.DataFrame(mols_b)\n",
    "mols_c = np.vstack(AllChem.CalcNumLipinskiHBD(m) for m in mols)\n",
    "df_train['mols_c'] = pd.DataFrame(mols_c)\n",
    "mols_d = np.vstack(AllChem.CalcNumLipinskiHBA(m) for m in mols)\n",
    "df_train['mols_d'] = pd.DataFrame(mols_d)\n",
    "mols_e = np.vstack(AllChem.CalcNumSaturatedCarbocycles(m) for m in mols)\n",
    "df_train['mols_e'] = pd.DataFrame(mols_e)\n",
    "mols_f = np.vstack(AllChem.CalcNumAromaticHeterocycles(m) for m in mols)\n",
    "df_train['mols_f'] = pd.DataFrame(mols_f)\n",
    "mols_g = np.vstack(AllChem.CalcNumAromaticCarbocycles(m) for m in mols)\n",
    "df_train['mols_g'] = pd.DataFrame(mols_g)\n",
    "mols_h = np.vstack(AllChem.CalcTPSA(m) for m in mols)\n",
    "df_train['mols_h'] = pd.DataFrame(mols_h)"
   ]
  },
  {
   "cell_type": "code",
   "execution_count": 11,
   "metadata": {
    "collapsed": true
   },
   "outputs": [],
   "source": [
    "df_train.to_csv('test3.csv', index=False)"
   ]
  },
  {
   "cell_type": "code",
   "execution_count": null,
   "metadata": {
    "collapsed": true
   },
   "outputs": [],
   "source": [
    "\n",
    "\n",
    "\n"
   ]
  }
 ],
 "metadata": {
  "kernelspec": {
   "display_name": "Python 2",
   "language": "python",
   "name": "python2"
  },
  "language_info": {
   "codemirror_mode": {
    "name": "ipython",
    "version": 2
   },
   "file_extension": ".py",
   "mimetype": "text/x-python",
   "name": "python",
   "nbconvert_exporter": "python",
   "pygments_lexer": "ipython2",
   "version": "2.7.11"
  }
 },
 "nbformat": 4,
 "nbformat_minor": 0
}
